{
  "nbformat": 4,
  "nbformat_minor": 0,
  "metadata": {
    "colab": {
      "name": "58034/58090_LabNo.2_Makgeolli.ipynb",
      "provenance": [],
      "collapsed_sections": []
    },
    "kernelspec": {
      "name": "python3",
      "display_name": "Python 3"
    },
    "language_info": {
      "name": "python"
    }
  },
  "cells": [
    {
      "cell_type": "markdown",
      "metadata": {
        "id": "tRlIluwvTvlC"
      },
      "source": [
        "# <div align=\"center\">**Linear Algebra Review**</div> \n",
        "# <p align=\"center\"> Laboratory 2 - Makgeolli <p>\n",
        "| Submitted By:          | Instructor:               |\n",
        "|------------------------|---------------------------|\n",
        "| Ilagan, Adrian         | Engr. Dylan Josh D. Lopez |\n",
        "| Piol, Jet Cuervo       |                           | \n",
        "| Pionelo, Philip Julrenz|                           |\n",
        "| Tadeo, Joshua Miguel   |                           | "
      ]
    },
    {
      "cell_type": "markdown",
      "metadata": {
        "id": "lbAv-D7NN-6S"
      },
      "source": [
        " **Problem 4.c: Computational Programming (Also Laboratory 2)**\n"
      ]
    },
    {
      "cell_type": "code",
      "metadata": {
        "id": "rhuUBwvCN1JN"
      },
      "source": [
        "import pandas as pd\n",
        "import numpy as np\n",
        "import matplotlib.pyplot as plt\n",
        "\n",
        "class LRegression():\n",
        "\n",
        "  def __init__(self,x_dataset,y_gndTruth,theta_Vector):\n",
        "    self.x_dataset = np.array([x_dataset])\n",
        "    self.y_gndTruth = np.array([y_gndTruth])\n",
        "    self.theta_Vector = np.array([theta_Vector])\n",
        "\n",
        "  #shape of dataset\n",
        "  def getDatasetShape(self):\n",
        "    self.dataset_Shape = np.shape(self.x_dataset)\n",
        "    return self.dataset_Shape \n",
        "\n",
        "  #transpose of X(dataset) = X^T\n",
        "  def getDatasetTranspose(self):\n",
        "    self.xTranspose = self.x_dataset.transpose()\n",
        "    return self.xTranspose\n",
        "  \n",
        "  #transpose of theta = theta^T\n",
        "  def getThetaTranspose(self):\n",
        "    self.thetaTranspose = self.theta_Vector.transpose()\n",
        "    return self.thetaTranspose\n",
        "\n",
        "  #Equation 3.1\n",
        "  def getZValue(self): \n",
        "    self.Z_Value = np.dot(self.x_dataset, self.theta_Vector)\n",
        "    return self.Z_Value\n",
        "\n",
        "  #Equation 3.3\n",
        "  def getActivationFunc(self):\n",
        "    self.activation_Func = 1/(1+np.exp(-self.Z_Value))\n",
        "    return self.activation_Func\n",
        "\n",
        "  #Equation 3.2\n",
        "  def getHypothesis(self):\n",
        "    self.hypothesis = self.activation_Func\n",
        "    return self.hypothesis\n",
        "\n",
        "  #Equation 3.4\n",
        "  def getCostFuncLoss(self):\n",
        "\n",
        "    m = self.y_gndTruth.shape[0]\n",
        "    yGndTruth_t = self.y_GndTruth.transpose()\n",
        "\n",
        "    logLoss = ((-1*yGndTruth_t) * np.log(self.hypothesis)) - (((1 - self.y_GndTruth).transpose())*(np.log(1 - self.hypothesis)))\n",
        "    self.J_theta = (1/m)*logLoss\n",
        "    return self.J_theta\n",
        "\n",
        "\n",
        "  \n",
        "\n",
        "  "
      ],
      "execution_count": 2,
      "outputs": []
    },
    {
      "cell_type": "markdown",
      "metadata": {
        "id": "EQW1K_8mU23j"
      },
      "source": [
        "Date Submitted: September 26, 2021"
      ]
    }
  ]
}